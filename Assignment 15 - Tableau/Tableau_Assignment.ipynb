{
 "cells": [
  {
   "cell_type": "code",
   "execution_count": 1,
   "metadata": {},
   "outputs": [],
   "source": [
    "from glob import glob\n",
    "import pandas as pd"
   ]
  },
  {
   "cell_type": "code",
   "execution_count": 2,
   "metadata": {
    "scrolled": true
   },
   "outputs": [
    {
     "data": {
      "text/plain": [
       "['JC-201801-citibike-tripdata.csv',\n",
       " 'JC-201802-citibike-tripdata.csv',\n",
       " 'JC-201803-citibike-tripdata.csv',\n",
       " 'JC-201804-citibike-tripdata.csv',\n",
       " 'JC-201805-citibike-tripdata.csv',\n",
       " 'JC-201806-citibike-tripdata.csv',\n",
       " 'JC-201807-citibike-tripdata.csv',\n",
       " 'JC-201808-citibike-tripdata.csv',\n",
       " 'JC-201809-citibike-tripdata.csv',\n",
       " 'JC-201810-citibike-tripdata.csv',\n",
       " 'JC-201811-citibike-tripdata.csv',\n",
       " 'JC-201812-citibike-tripdata.csv',\n",
       " 'JC-201901-citibike-tripdata.csv',\n",
       " 'JC-201902-citibike-tripdata.csv',\n",
       " 'JC-201903-citibike-tripdata.csv',\n",
       " 'JC-201904-citibike-tripdata.csv',\n",
       " 'JC-201905-citibike-tripdata.csv',\n",
       " 'JC-201906-citibike-tripdata.csv',\n",
       " 'JC-201907-citibike-tripdata.csv',\n",
       " 'JC-201908-citibike-tripdata.csv',\n",
       " 'JC-201909-citibike-tripdata.csv',\n",
       " 'JC-201910-citibike-tripdata.csv',\n",
       " 'JC-201911-citibike-tripdata.csv',\n",
       " 'JC-201912-citibike-tripdata.csv',\n",
       " 'JC-202001-citibike-tripdata.csv']"
      ]
     },
     "execution_count": 2,
     "metadata": {},
     "output_type": "execute_result"
    }
   ],
   "source": [
    "stock_files = sorted(glob('JC*.csv'))\n",
    "stock_files"
   ]
  },
  {
   "cell_type": "code",
   "execution_count": 3,
   "metadata": {},
   "outputs": [],
   "source": [
    "df = pd.concat((pd.read_csv(file) for file in stock_files), ignore_index=True)"
   ]
  },
  {
   "cell_type": "code",
   "execution_count": 4,
   "metadata": {},
   "outputs": [],
   "source": [
    "df.to_csv('share_biking_NY_Jan2018-Dec2019.csv')"
   ]
  },
  {
   "cell_type": "code",
   "execution_count": null,
   "metadata": {},
   "outputs": [],
   "source": []
  }
 ],
 "metadata": {
  "kernelspec": {
   "display_name": "Python 3",
   "language": "python",
   "name": "python3"
  },
  "language_info": {
   "codemirror_mode": {
    "name": "ipython",
    "version": 3
   },
   "file_extension": ".py",
   "mimetype": "text/x-python",
   "name": "python",
   "nbconvert_exporter": "python",
   "pygments_lexer": "ipython3",
   "version": "3.7.3"
  }
 },
 "nbformat": 4,
 "nbformat_minor": 2
}
