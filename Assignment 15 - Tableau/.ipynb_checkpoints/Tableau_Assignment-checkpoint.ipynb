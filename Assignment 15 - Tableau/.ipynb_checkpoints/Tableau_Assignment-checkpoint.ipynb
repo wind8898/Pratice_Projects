{
 "cells": [
  {
   "cell_type": "code",
   "execution_count": 1,
   "metadata": {},
   "outputs": [],
   "source": [
    "from glob import glob\n",
    "import pandas as pd"
   ]
  },
  {
   "cell_type": "code",
   "execution_count": 2,
   "metadata": {
    "scrolled": true
   },
   "outputs": [
    {
     "data": {
      "text/plain": [
       "['/users/steven.w/downloads/JC-ShareBiking_data_NY_Jan2018-Jan2020/JC-201801-citibike-tripdata.csv',\n",
       " '/users/steven.w/downloads/JC-ShareBiking_data_NY_Jan2018-Jan2020/JC-201802-citibike-tripdata.csv',\n",
       " '/users/steven.w/downloads/JC-ShareBiking_data_NY_Jan2018-Jan2020/JC-201803-citibike-tripdata.csv',\n",
       " '/users/steven.w/downloads/JC-ShareBiking_data_NY_Jan2018-Jan2020/JC-201804-citibike-tripdata.csv',\n",
       " '/users/steven.w/downloads/JC-ShareBiking_data_NY_Jan2018-Jan2020/JC-201805-citibike-tripdata.csv',\n",
       " '/users/steven.w/downloads/JC-ShareBiking_data_NY_Jan2018-Jan2020/JC-201806-citibike-tripdata.csv',\n",
       " '/users/steven.w/downloads/JC-ShareBiking_data_NY_Jan2018-Jan2020/JC-201807-citibike-tripdata.csv',\n",
       " '/users/steven.w/downloads/JC-ShareBiking_data_NY_Jan2018-Jan2020/JC-201808-citibike-tripdata.csv',\n",
       " '/users/steven.w/downloads/JC-ShareBiking_data_NY_Jan2018-Jan2020/JC-201809-citibike-tripdata.csv',\n",
       " '/users/steven.w/downloads/JC-ShareBiking_data_NY_Jan2018-Jan2020/JC-201810-citibike-tripdata.csv',\n",
       " '/users/steven.w/downloads/JC-ShareBiking_data_NY_Jan2018-Jan2020/JC-201811-citibike-tripdata.csv',\n",
       " '/users/steven.w/downloads/JC-ShareBiking_data_NY_Jan2018-Jan2020/JC-201812-citibike-tripdata.csv',\n",
       " '/users/steven.w/downloads/JC-ShareBiking_data_NY_Jan2018-Jan2020/JC-201901-citibike-tripdata.csv',\n",
       " '/users/steven.w/downloads/JC-ShareBiking_data_NY_Jan2018-Jan2020/JC-201902-citibike-tripdata.csv',\n",
       " '/users/steven.w/downloads/JC-ShareBiking_data_NY_Jan2018-Jan2020/JC-201903-citibike-tripdata.csv',\n",
       " '/users/steven.w/downloads/JC-ShareBiking_data_NY_Jan2018-Jan2020/JC-201904-citibike-tripdata.csv',\n",
       " '/users/steven.w/downloads/JC-ShareBiking_data_NY_Jan2018-Jan2020/JC-201905-citibike-tripdata.csv',\n",
       " '/users/steven.w/downloads/JC-ShareBiking_data_NY_Jan2018-Jan2020/JC-201906-citibike-tripdata.csv',\n",
       " '/users/steven.w/downloads/JC-ShareBiking_data_NY_Jan2018-Jan2020/JC-201907-citibike-tripdata.csv',\n",
       " '/users/steven.w/downloads/JC-ShareBiking_data_NY_Jan2018-Jan2020/JC-201908-citibike-tripdata.csv',\n",
       " '/users/steven.w/downloads/JC-ShareBiking_data_NY_Jan2018-Jan2020/JC-201909-citibike-tripdata.csv',\n",
       " '/users/steven.w/downloads/JC-ShareBiking_data_NY_Jan2018-Jan2020/JC-201910-citibike-tripdata.csv',\n",
       " '/users/steven.w/downloads/JC-ShareBiking_data_NY_Jan2018-Jan2020/JC-201911-citibike-tripdata.csv',\n",
       " '/users/steven.w/downloads/JC-ShareBiking_data_NY_Jan2018-Jan2020/JC-201912-citibike-tripdata.csv',\n",
       " '/users/steven.w/downloads/JC-ShareBiking_data_NY_Jan2018-Jan2020/JC-202001-citibike-tripdata.csv']"
      ]
     },
     "execution_count": 2,
     "metadata": {},
     "output_type": "execute_result"
    }
   ],
   "source": [
    "stock_files = sorted(glob('/users/steven.w/downloads/JC-ShareBiking_data_NY_Jan2018-Jan2020/JC*.csv'))\n",
    "stock_files"
   ]
  },
  {
   "cell_type": "code",
   "execution_count": 3,
   "metadata": {},
   "outputs": [],
   "source": [
    "df = pd.concat((pd.read_csv(file) for file in stock_files), ignore_index=True)"
   ]
  },
  {
   "cell_type": "code",
   "execution_count": 4,
   "metadata": {
    "scrolled": true
   },
   "outputs": [
    {
     "name": "stdout",
     "output_type": "stream",
     "text": [
      "<class 'pandas.core.frame.DataFrame'>\n",
      "RangeIndex: 784859 entries, 0 to 784858\n",
      "Data columns (total 15 columns):\n",
      "tripduration               784859 non-null int64\n",
      "starttime                  784859 non-null object\n",
      "stoptime                   784859 non-null object\n",
      "start station id           784859 non-null int64\n",
      "start station name         784859 non-null object\n",
      "start station latitude     784859 non-null float64\n",
      "start station longitude    784859 non-null float64\n",
      "end station id             784859 non-null int64\n",
      "end station name           784859 non-null object\n",
      "end station latitude       784859 non-null float64\n",
      "end station longitude      784859 non-null float64\n",
      "bikeid                     784859 non-null int64\n",
      "usertype                   784859 non-null object\n",
      "birth year                 784859 non-null int64\n",
      "gender                     784859 non-null int64\n",
      "dtypes: float64(4), int64(6), object(5)\n",
      "memory usage: 89.8+ MB\n"
     ]
    }
   ],
   "source": [
    "df.info()"
   ]
  },
  {
   "cell_type": "code",
   "execution_count": 9,
   "metadata": {
    "scrolled": true
   },
   "outputs": [
    {
     "data": {
      "text/plain": [
       "Index(['tripduration', 'starttime', 'stoptime', 'start station id',\n",
       "       'start station name', 'start station latitude',\n",
       "       'start station longitude', 'end station id', 'end station name',\n",
       "       'end station latitude', 'end station longitude', 'bikeid', 'usertype',\n",
       "       'birth year', 'gender'],\n",
       "      dtype='object')"
      ]
     },
     "execution_count": 9,
     "metadata": {},
     "output_type": "execute_result"
    }
   ],
   "source": [
    "df.columns"
   ]
  },
  {
   "cell_type": "code",
   "execution_count": 6,
   "metadata": {},
   "outputs": [
    {
     "data": {
      "text/html": [
       "<div>\n",
       "<style scoped>\n",
       "    .dataframe tbody tr th:only-of-type {\n",
       "        vertical-align: middle;\n",
       "    }\n",
       "\n",
       "    .dataframe tbody tr th {\n",
       "        vertical-align: top;\n",
       "    }\n",
       "\n",
       "    .dataframe thead th {\n",
       "        text-align: right;\n",
       "    }\n",
       "</style>\n",
       "<table border=\"1\" class=\"dataframe\">\n",
       "  <thead>\n",
       "    <tr style=\"text-align: right;\">\n",
       "      <th></th>\n",
       "      <th>tripduration</th>\n",
       "      <th>starttime</th>\n",
       "      <th>stoptime</th>\n",
       "      <th>start station id</th>\n",
       "      <th>start station name</th>\n",
       "      <th>start station latitude</th>\n",
       "      <th>start station longitude</th>\n",
       "      <th>end station id</th>\n",
       "      <th>end station name</th>\n",
       "      <th>end station latitude</th>\n",
       "      <th>end station longitude</th>\n",
       "      <th>bikeid</th>\n",
       "      <th>usertype</th>\n",
       "      <th>birth year</th>\n",
       "      <th>gender</th>\n",
       "    </tr>\n",
       "  </thead>\n",
       "  <tbody>\n",
       "    <tr>\n",
       "      <th>0</th>\n",
       "      <td>932</td>\n",
       "      <td>2018-01-01 02:06:17.5410</td>\n",
       "      <td>2018-01-01 02:21:50.0270</td>\n",
       "      <td>3183</td>\n",
       "      <td>Exchange Place</td>\n",
       "      <td>40.716247</td>\n",
       "      <td>-74.033459</td>\n",
       "      <td>3199</td>\n",
       "      <td>Newport Pkwy</td>\n",
       "      <td>40.728745</td>\n",
       "      <td>-74.032108</td>\n",
       "      <td>31929</td>\n",
       "      <td>Subscriber</td>\n",
       "      <td>1992</td>\n",
       "      <td>1</td>\n",
       "    </tr>\n",
       "    <tr>\n",
       "      <th>1</th>\n",
       "      <td>550</td>\n",
       "      <td>2018-01-01 12:06:18.0390</td>\n",
       "      <td>2018-01-01 12:15:28.4430</td>\n",
       "      <td>3183</td>\n",
       "      <td>Exchange Place</td>\n",
       "      <td>40.716247</td>\n",
       "      <td>-74.033459</td>\n",
       "      <td>3199</td>\n",
       "      <td>Newport Pkwy</td>\n",
       "      <td>40.728745</td>\n",
       "      <td>-74.032108</td>\n",
       "      <td>31845</td>\n",
       "      <td>Subscriber</td>\n",
       "      <td>1969</td>\n",
       "      <td>2</td>\n",
       "    </tr>\n",
       "    <tr>\n",
       "      <th>2</th>\n",
       "      <td>510</td>\n",
       "      <td>2018-01-01 12:06:56.9780</td>\n",
       "      <td>2018-01-01 12:15:27.8100</td>\n",
       "      <td>3183</td>\n",
       "      <td>Exchange Place</td>\n",
       "      <td>40.716247</td>\n",
       "      <td>-74.033459</td>\n",
       "      <td>3199</td>\n",
       "      <td>Newport Pkwy</td>\n",
       "      <td>40.728745</td>\n",
       "      <td>-74.032108</td>\n",
       "      <td>31708</td>\n",
       "      <td>Subscriber</td>\n",
       "      <td>1946</td>\n",
       "      <td>1</td>\n",
       "    </tr>\n",
       "    <tr>\n",
       "      <th>3</th>\n",
       "      <td>354</td>\n",
       "      <td>2018-01-01 14:53:10.1860</td>\n",
       "      <td>2018-01-01 14:59:05.0960</td>\n",
       "      <td>3183</td>\n",
       "      <td>Exchange Place</td>\n",
       "      <td>40.716247</td>\n",
       "      <td>-74.033459</td>\n",
       "      <td>3267</td>\n",
       "      <td>Morris Canal</td>\n",
       "      <td>40.712419</td>\n",
       "      <td>-74.038526</td>\n",
       "      <td>31697</td>\n",
       "      <td>Subscriber</td>\n",
       "      <td>1994</td>\n",
       "      <td>1</td>\n",
       "    </tr>\n",
       "    <tr>\n",
       "      <th>4</th>\n",
       "      <td>250</td>\n",
       "      <td>2018-01-01 17:34:30.1920</td>\n",
       "      <td>2018-01-01 17:38:40.9840</td>\n",
       "      <td>3183</td>\n",
       "      <td>Exchange Place</td>\n",
       "      <td>40.716247</td>\n",
       "      <td>-74.033459</td>\n",
       "      <td>3639</td>\n",
       "      <td>Harborside</td>\n",
       "      <td>40.719252</td>\n",
       "      <td>-74.034234</td>\n",
       "      <td>31861</td>\n",
       "      <td>Subscriber</td>\n",
       "      <td>1991</td>\n",
       "      <td>1</td>\n",
       "    </tr>\n",
       "  </tbody>\n",
       "</table>\n",
       "</div>"
      ],
      "text/plain": [
       "   tripduration                 starttime                  stoptime  \\\n",
       "0           932  2018-01-01 02:06:17.5410  2018-01-01 02:21:50.0270   \n",
       "1           550  2018-01-01 12:06:18.0390  2018-01-01 12:15:28.4430   \n",
       "2           510  2018-01-01 12:06:56.9780  2018-01-01 12:15:27.8100   \n",
       "3           354  2018-01-01 14:53:10.1860  2018-01-01 14:59:05.0960   \n",
       "4           250  2018-01-01 17:34:30.1920  2018-01-01 17:38:40.9840   \n",
       "\n",
       "   start station id start station name  start station latitude  \\\n",
       "0              3183     Exchange Place               40.716247   \n",
       "1              3183     Exchange Place               40.716247   \n",
       "2              3183     Exchange Place               40.716247   \n",
       "3              3183     Exchange Place               40.716247   \n",
       "4              3183     Exchange Place               40.716247   \n",
       "\n",
       "   start station longitude  end station id end station name  \\\n",
       "0               -74.033459            3199     Newport Pkwy   \n",
       "1               -74.033459            3199     Newport Pkwy   \n",
       "2               -74.033459            3199     Newport Pkwy   \n",
       "3               -74.033459            3267     Morris Canal   \n",
       "4               -74.033459            3639       Harborside   \n",
       "\n",
       "   end station latitude  end station longitude  bikeid    usertype  \\\n",
       "0             40.728745             -74.032108   31929  Subscriber   \n",
       "1             40.728745             -74.032108   31845  Subscriber   \n",
       "2             40.728745             -74.032108   31708  Subscriber   \n",
       "3             40.712419             -74.038526   31697  Subscriber   \n",
       "4             40.719252             -74.034234   31861  Subscriber   \n",
       "\n",
       "   birth year  gender  \n",
       "0        1992       1  \n",
       "1        1969       2  \n",
       "2        1946       1  \n",
       "3        1994       1  \n",
       "4        1991       1  "
      ]
     },
     "execution_count": 6,
     "metadata": {},
     "output_type": "execute_result"
    }
   ],
   "source": [
    "df.head(5)"
   ]
  },
  {
   "cell_type": "code",
   "execution_count": 4,
   "metadata": {},
   "outputs": [],
   "source": [
    "df.to_csv('share_biking_NY_Jan2018-Dec2019.csv')"
   ]
  }
 ],
 "metadata": {
  "kernelspec": {
   "display_name": "Python 3",
   "language": "python",
   "name": "python3"
  },
  "language_info": {
   "codemirror_mode": {
    "name": "ipython",
    "version": 3
   },
   "file_extension": ".py",
   "mimetype": "text/x-python",
   "name": "python",
   "nbconvert_exporter": "python",
   "pygments_lexer": "ipython3",
   "version": "3.7.3"
  }
 },
 "nbformat": 4,
 "nbformat_minor": 2
}
